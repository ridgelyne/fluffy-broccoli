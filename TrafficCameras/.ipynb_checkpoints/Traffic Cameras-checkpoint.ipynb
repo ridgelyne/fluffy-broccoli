{
 "cells": [
  {
   "cell_type": "code",
   "execution_count": 1,
   "metadata": {
    "collapsed": true
   },
   "outputs": [],
   "source": [
    "import requests\n",
    "import datetime\n",
    "import time\n"
   ]
  },
  {
   "cell_type": "code",
   "execution_count": 2,
   "metadata": {
    "collapsed": true
   },
   "outputs": [],
   "source": [
    "\n",
    "url = 'https://dotfeeds.state.ma.us/TLImageHandler.ashx?mdotId=JQMpgWcUDkCZNZqVN5dTGFtTJ4CZY6pTqPH6UAwG7ucFZ4rl35&fullJpeg=http://ie.trafficland.com/v1.0/407975/full?system=massdot&pubtoken=0aedc63af7dfe761e7dd591c3e38affd137c25bdfded3e350fff2c2889398936&refreshRate=2000&refreshVersion=0.03759609062378577'\n",
    "url = 'https://dotfeeds.state.ma.us/TLImageHandler.ashx?mdotId=BUlTwp9vJBRe20V1KcsUP3tuVfHwrVXttQpyqEy5mMghu1of3R&fullJpeg=http://ie.trafficland.com/v1.0/407975/full?system=massdot&pubtoken=0aedc63af7dfe761e7dd591c3e38affd137c25bdfded3e350fff2c2889398936&refreshRate=2000&refreshVersion=0.49072586175983357'\n",
    "\n",
    "# I-90-WB-Brighton-East of Everett St [TZ-12]\n",
    "url = 'https://dotfeeds.state.ma.us/TLImageHandler.ashx?mdotId=5LQ03UUjhml5ScmPreKeDKH03qlqxOXUQdkLppPyTjZBt2MdFp&fullJpeg=http://ie.trafficland.com/v1.0/407976/full?system=massdot&pubtoken=0ed78b9e55385cd3f2a85596379093f234241f1c2365f5ca92deae4634e27773&refreshRate=2000&refreshVersion=0.4517579362727415'"
   ]
  },
  {
   "cell_type": "code",
   "execution_count": 10,
   "metadata": {
    "collapsed": false
   },
   "outputs": [
    {
     "name": "stdout",
     "output_type": "stream",
     "text": [
      "0.4827301502227783\n"
     ]
    }
   ],
   "source": [
    "a=time.time()\n",
    "request = requests.get(url)\n",
    "if request.status_code == 200:\n",
    "    with open(\"test.jpg\", 'wb') as f:\n",
    "        f.write(request.content)\n",
    "b=time.time()\n",
    "print(b-a)"
   ]
  },
  {
   "cell_type": "code",
   "execution_count": 23,
   "metadata": {
    "collapsed": false
   },
   "outputs": [
    {
     "name": "stdout",
     "output_type": "stream",
     "text": [
      "20180911_211300.jpg\n",
      "1.1903181076049805\n",
      "20180911_211301.jpg\n",
      "0.3936624526977539\n",
      "20180911_211303.jpg\n",
      "0.8245220184326172\n",
      "20180911_211303.jpg\n",
      "0.3797609806060791\n",
      "20180911_211305.jpg\n",
      "1.1303584575653076\n",
      "20180911_211307.jpg\n",
      "1.1212332248687744\n",
      "20180911_211309.jpg\n",
      "0.8244013786315918\n"
     ]
    }
   ],
   "source": [
    "starttime=time.time()\n",
    "for i in range(50s):\n",
    "    a=time.time()\n",
    "    request = requests.get(url)\n",
    "    if request.status_code == 200:    \n",
    "        cur_time = datetime.datetime.now().strftime(\"%Y%m%d_%H%M%S\")\n",
    "        filename = 'traffic_{}.jpg'.format(cur_time)\n",
    "        print(filename)\n",
    "        with open(filename, 'wb') as f:     \n",
    "            f.write(request.content)\n",
    "    else:\n",
    "        print('Did not get a picture')\n",
    "    b=time.time()\n",
    "    print(b-a)\n",
    "    time.sleep(1 - ((time.time() - starttime) % 1))"
   ]
  },
  {
   "cell_type": "code",
   "execution_count": 16,
   "metadata": {
    "collapsed": false
   },
   "outputs": [
    {
     "data": {
      "text/plain": [
       "'20180911_210515'"
      ]
     },
     "execution_count": 16,
     "metadata": {},
     "output_type": "execute_result"
    }
   ],
   "source": [
    "\n",
    "datetime.datetime.now().strftime(\"%Y%m%d_%H%M%S\")"
   ]
  },
  {
   "cell_type": "code",
   "execution_count": 4,
   "metadata": {
    "collapsed": false
   },
   "outputs": [
    {
     "data": {
      "text/plain": [
       "0.0"
      ]
     },
     "execution_count": 4,
     "metadata": {},
     "output_type": "execute_result"
    }
   ],
   "source": [
    "starttime=time.time()\n",
    "(time.time() - starttime)"
   ]
  },
  {
   "cell_type": "code",
   "execution_count": 15,
   "metadata": {
    "collapsed": false
   },
   "outputs": [
    {
     "ename": "TypeError",
     "evalue": "Tuple or struct_time argument required",
     "output_type": "error",
     "traceback": [
      "\u001b[0;31m---------------------------------------------------------------------------\u001b[0m",
      "\u001b[0;31mTypeError\u001b[0m                                 Traceback (most recent call last)",
      "\u001b[0;32m<ipython-input-15-42b7d4d9fca0>\u001b[0m in \u001b[0;36m<module>\u001b[0;34m()\u001b[0m\n\u001b[0;32m----> 1\u001b[0;31m \u001b[0mtime\u001b[0m\u001b[1;33m.\u001b[0m\u001b[0mstrftime\u001b[0m\u001b[1;33m(\u001b[0m\u001b[1;34m\"%Y-%m-%d %H:%M:%S\"\u001b[0m\u001b[1;33m,\u001b[0m \u001b[0mstarttime\u001b[0m\u001b[1;33m)\u001b[0m\u001b[1;33m\u001b[0m\u001b[0m\n\u001b[0m",
      "\u001b[0;31mTypeError\u001b[0m: Tuple or struct_time argument required"
     ]
    }
   ],
   "source": [
    "time.strftime(\"%Y-%m-%d %H:%M:%S\", starttime)"
   ]
  },
  {
   "cell_type": "code",
   "execution_count": 6,
   "metadata": {
    "collapsed": false
   },
   "outputs": [
    {
     "data": {
      "text/plain": [
       "30.860686779022217"
      ]
     },
     "execution_count": 6,
     "metadata": {},
     "output_type": "execute_result"
    }
   ],
   "source": [
    "60.0 - ((time.time() - starttime) % 60.0)"
   ]
  },
  {
   "cell_type": "code",
   "execution_count": 7,
   "metadata": {
    "collapsed": false
   },
   "outputs": [
    {
     "ename": "ValueError",
     "evalue": "sleep length must be non-negative",
     "output_type": "error",
     "traceback": [
      "\u001b[0;31m---------------------------------------------------------------------------\u001b[0m",
      "\u001b[0;31mValueError\u001b[0m                                Traceback (most recent call last)",
      "\u001b[0;32m<ipython-input-7-8487abaa35bb>\u001b[0m in \u001b[0;36m<module>\u001b[0;34m()\u001b[0m\n\u001b[0;32m----> 1\u001b[0;31m \u001b[0mtime\u001b[0m\u001b[1;33m.\u001b[0m\u001b[0msleep\u001b[0m\u001b[1;33m(\u001b[0m\u001b[1;33m-\u001b[0m\u001b[1;36m1\u001b[0m\u001b[1;33m)\u001b[0m\u001b[1;33m\u001b[0m\u001b[0m\n\u001b[0m",
      "\u001b[0;31mValueError\u001b[0m: sleep length must be non-negative"
     ]
    }
   ],
   "source": [
    "time.sleep(-1)"
   ]
  },
  {
   "cell_type": "code",
   "execution_count": null,
   "metadata": {
    "collapsed": true
   },
   "outputs": [],
   "source": []
  }
 ],
 "metadata": {
  "kernelspec": {
   "display_name": "Python 3",
   "language": "python",
   "name": "python3"
  },
  "language_info": {
   "codemirror_mode": {
    "name": "ipython",
    "version": 3
   },
   "file_extension": ".py",
   "mimetype": "text/x-python",
   "name": "python",
   "nbconvert_exporter": "python",
   "pygments_lexer": "ipython3",
   "version": "3.6.0"
  }
 },
 "nbformat": 4,
 "nbformat_minor": 2
}
