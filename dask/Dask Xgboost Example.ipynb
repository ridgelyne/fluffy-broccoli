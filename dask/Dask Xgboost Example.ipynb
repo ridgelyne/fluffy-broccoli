{
 "cells": [
  {
   "cell_type": "code",
   "execution_count": null,
   "metadata": {},
   "outputs": [],
   "source": [
    "import numpy as np\n",
    "from dask.array import from_array\n",
    "from dask.distributed import Client\n",
    "import dask_xgboost"
   ]
  },
  {
   "cell_type": "code",
   "execution_count": null,
   "metadata": {},
   "outputs": [],
   "source": [
    "data = np.load('keras-boston-housing-dataset\\\\boston_housing.npz')"
   ]
  },
  {
   "cell_type": "code",
   "execution_count": null,
   "metadata": {},
   "outputs": [],
   "source": [
    "x_train = data['x'][:400,:]\n",
    "y_train = data['y'][:400]\n",
    "\n",
    "x_test = data['x'][400:,:]\n",
    "y_test = data['y'][400:]"
   ]
  },
  {
   "cell_type": "code",
   "execution_count": null,
   "metadata": {},
   "outputs": [],
   "source": [
    "dask_x = from_array(data['x'], chunks=(506/2,13))\n",
    "dask_y = from_array(data['y'], chunks=(506/2,))"
   ]
  },
  {
   "cell_type": "code",
   "execution_count": null,
   "metadata": {
    "scrolled": true
   },
   "outputs": [],
   "source": [
    "#from dask_ml.model_selection import train_test_split\n",
    "from dask_ml import model_selection\n",
    "import dask_ml\n",
    "X_train, X_test, y_train, y_test = dask_ml.model_selection.train_test_split(dask_x, dask_y, test_size=0.15)"
   ]
  },
  {
   "cell_type": "code",
   "execution_count": null,
   "metadata": {},
   "outputs": [],
   "source": [
    "client = Client()  # connect to cluster\n"
   ]
  },
  {
   "cell_type": "code",
   "execution_count": null,
   "metadata": {},
   "outputs": [],
   "source": [
    "params = {'objective': 'binary:logistic'}  # use normal xgboost params\n",
    "bst = dask_xgboost.train(client, params, X_train, y_train)"
   ]
  },
  {
   "cell_type": "code",
   "execution_count": null,
   "metadata": {},
   "outputs": [],
   "source": []
  }
 ],
 "metadata": {
  "kernelspec": {
   "display_name": "Clean Env",
   "language": "python",
   "name": "clean_env"
  },
  "language_info": {
   "codemirror_mode": {
    "name": "ipython",
    "version": 3
   },
   "file_extension": ".py",
   "mimetype": "text/x-python",
   "name": "python",
   "nbconvert_exporter": "python",
   "pygments_lexer": "ipython3",
   "version": "3.7.0"
  }
 },
 "nbformat": 4,
 "nbformat_minor": 2
}
