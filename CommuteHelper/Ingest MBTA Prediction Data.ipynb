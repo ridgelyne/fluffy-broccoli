{
 "cells": [
  {
   "cell_type": "code",
   "execution_count": null,
   "metadata": {
    "collapsed": true
   },
   "outputs": [],
   "source": [
    "import json\n",
    "import requests\n",
    "import datetime\n",
    "import pytz\n",
    "import time\n",
    "import pandas as pd\n",
    "import matplotlib\n",
    "from pandas.io.json import json_normalize\n",
    "from sqlalchemy import create_engine, types\n",
    "import matplotlib.pyplot as plt\n",
    "import matplotlib.dates as mdates\n",
    "\n",
    "%matplotlib inline"
   ]
  },
  {
   "cell_type": "code",
   "execution_count": null,
   "metadata": {
    "collapsed": true
   },
   "outputs": [],
   "source": []
  },
  {
   "cell_type": "code",
   "execution_count": null,
   "metadata": {
    "collapsed": false
   },
   "outputs": [],
   "source": [
    "headers = {\n",
    "    'accept': 'text/event-stream',\n",
    "    'x-api-key': 'bb73146176e64220b480f0af9f8b305a',\n",
    "}\n",
    "\n",
    "params = (\n",
    "    ('filter[route]', 'Red'),\n",
    "    ('include', 'vehicle'),\n",
    "    ('fields[shape]', 'name'),\n",
    ")\n",
    "\n",
    "response = requests.get('https://api-v3.mbta.com/predictions/', headers=headers, params=params, stream=True)\n",
    "\n",
    "outfilename = 'red_line_predict' + datetime.datetime.now(pytz.timezone('America/New_York')).strftime('%Y%m%d_%H%M%S') + '.txt'\n",
    "with open(outfilename, 'w') as outfile:\n",
    "    for line in response.iter_lines():\n",
    "\n",
    "        # TODO: filter out keep-alive new lines\n",
    "        if line:\n",
    "            msg = datetime.datetime.now(pytz.timezone('America/New_York')).strftime('%m/%d/%Y %H:%M:%S: ') + str(line) + '\\n'\n",
    "            outfile.write(msg)"
   ]
  },
  {
   "cell_type": "code",
   "execution_count": null,
   "metadata": {
    "collapsed": true
   },
   "outputs": [],
   "source": []
  },
  {
   "cell_type": "code",
   "execution_count": null,
   "metadata": {
    "collapsed": true
   },
   "outputs": [],
   "source": []
  },
  {
   "cell_type": "code",
   "execution_count": null,
   "metadata": {
    "collapsed": true
   },
   "outputs": [],
   "source": []
  }
 ],
 "metadata": {
  "kernelspec": {
   "display_name": "Python 3",
   "language": "python",
   "name": "python3"
  },
  "language_info": {
   "codemirror_mode": {
    "name": "ipython",
    "version": 3
   },
   "file_extension": ".py",
   "mimetype": "text/x-python",
   "name": "python",
   "nbconvert_exporter": "python",
   "pygments_lexer": "ipython3",
   "version": "3.6.0"
  }
 },
 "nbformat": 4,
 "nbformat_minor": 2
}
