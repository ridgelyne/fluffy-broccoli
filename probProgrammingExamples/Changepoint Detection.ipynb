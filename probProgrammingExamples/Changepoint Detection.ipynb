{
 "cells": [
  {
   "cell_type": "code",
   "execution_count": 1,
   "metadata": {},
   "outputs": [
    {
     "name": "stdout",
     "output_type": "stream",
     "text": [
      "\n",
      "You can find the C code in this temporary file: C:\\Users\\kathl\\AppData\\Local\\Temp\\theano_compilation_error_0skh7e1_\n"
     ]
    },
    {
     "ename": "Exception",
     "evalue": "Compilation failed (return status=1): C:\\Users\\kathl\\AppData\\Local\\Temp\\ccIjKnwA.o: In function `_import_array':\r. C:/Users/kathl/AppData/Local/Continuum/anaconda3/lib/site-packages/numpy/core/include/numpy/__multiarray_api.h:1470: undefined reference to `__imp_PyExc_ImportError'\r. C:/Users/kathl/AppData/Local/Continuum/anaconda3/lib/site-packages/numpy/core/include/numpy/__multiarray_api.h:1476: undefined reference to `__imp_PyExc_AttributeError'\r. C:/Users/kathl/AppData/Local/Continuum/anaconda3/lib/site-packages/numpy/core/include/numpy/__multiarray_api.h:1481: undefined reference to `__imp_PyCapsule_Type'\r. C:/Users/kathl/AppData/Local/Continuum/anaconda3/lib/site-packages/numpy/core/include/numpy/__multiarray_api.h:1482: undefined reference to `__imp_PyExc_RuntimeError'\r. C:/Users/kathl/AppData/Local/Continuum/anaconda3/lib/site-packages/numpy/core/include/numpy/__multiarray_api.h:1497: undefined reference to `__imp_PyExc_RuntimeError'\r. C:/Users/kathl/AppData/Local/Continuum/anaconda3/lib/site-packages/numpy/core/include/numpy/__multiarray_api.h:1505: undefined reference to `__imp_PyExc_RuntimeError'\r. C:/Users/kathl/AppData/Local/Continuum/anaconda3/lib/site-packages/numpy/core/include/numpy/__multiarray_api.h:1511: undefined reference to `__imp_PyExc_RuntimeError'\r. C:/Users/kathl/AppData/Local/Continuum/anaconda3/lib/site-packages/numpy/core/include/numpy/__multiarray_api.h:1521: undefined reference to `__imp_PyExc_RuntimeError'\r. C:\\Users\\kathl\\AppData\\Local\\Temp\\ccIjKnwA.o:C:/Users/kathl/AppData/Local/Continuum/anaconda3/lib/site-packages/numpy/core/include/numpy/__multiarray_api.h:1533: more undefined references to `__imp_PyExc_RuntimeError' follow\r. C:\\Users\\kathl\\AppData\\Local\\Temp\\ccIjKnwA.o: In function `NpyCapsule_Check':\r. C:/Users/kathl/AppData/Local/Continuum/anaconda3/lib/site-packages/numpy/core/include/numpy/npy_3kcompat.h:468: undefined reference to `__imp_PyCapsule_Type'\r. C:\\Users\\kathl\\AppData\\Local\\Temp\\ccIjKnwA.o: In function `unpack_list_of_ssize_t':\r. C:/Users/kathl/AppData/Local/Theano/compiledir_Windows-10-10.0.17134-SP0-AMD64_Family_23_Model_8_Stepping_2_AuthenticAMD-3.7.0-64/lazylinker_ext/mod.cpp:48: undefined reference to `__imp_PyExc_TypeError'\r. C:/Users/kathl/AppData/Local/Theano/compiledir_Windows-10-10.0.17134-SP0-AMD64_Family_23_Model_8_Stepping_2_AuthenticAMD-3.7.0-64/lazylinker_ext/mod.cpp:58: undefined reference to `__imp_PyExc_IndexError'\r. C:\\Users\\kathl\\AppData\\Local\\Temp\\ccIjKnwA.o: In function `CLazyLinker_init':\r. C:/Users/kathl/AppData/Local/Theano/compiledir_Windows-10-10.0.17134-SP0-AMD64_Family_23_Model_8_Stepping_2_AuthenticAMD-3.7.0-64/lazylinker_ext/mod.cpp:352: undefined reference to `__imp_PyExc_IndexError'\r. C:/Users/kathl/AppData/Local/Theano/compiledir_Windows-10-10.0.17134-SP0-AMD64_Family_23_Model_8_Stepping_2_AuthenticAMD-3.7.0-64/lazylinker_ext/mod.cpp:370: undefined reference to `__imp_PyExc_IndexError'\r. C:/Users/kathl/AppData/Local/Theano/compiledir_Windows-10-10.0.17134-SP0-AMD64_Family_23_Model_8_Stepping_2_AuthenticAMD-3.7.0-64/lazylinker_ext/mod.cpp:385: undefined reference to `__imp_PyExc_IndexError'\r. C:/Users/kathl/AppData/Local/Theano/compiledir_Windows-10-10.0.17134-SP0-AMD64_Family_23_Model_8_Stepping_2_AuthenticAMD-3.7.0-64/lazylinker_ext/mod.cpp:389: undefined reference to `__imp_PyExc_IndexError'\r. C:\\Users\\kathl\\AppData\\Local\\Temp\\ccIjKnwA.o:C:/Users/kathl/AppData/Local/Theano/compiledir_Windows-10-10.0.17134-SP0-AMD64_Family_23_Model_8_Stepping_2_AuthenticAMD-3.7.0-64/lazylinker_ext/mod.cpp:393: more undefined references to `__imp_PyExc_IndexError' follow\r. C:\\Users\\kathl\\AppData\\Local\\Temp\\ccIjKnwA.o: In function `CLazyLinker_init':\r. C:/Users/kathl/AppData/Local/Theano/compiledir_Windows-10-10.0.17134-SP0-AMD64_Family_23_Model_8_Stepping_2_AuthenticAMD-3.7.0-64/lazylinker_ext/mod.cpp:405: undefined reference to `__imp_PyExc_TypeError'\r. C:/Users/kathl/AppData/Local/Theano/compiledir_Windows-10-10.0.17134-SP0-AMD64_Family_23_Model_8_Stepping_2_AuthenticAMD-3.7.0-64/lazylinker_ext/mod.cpp:420: undefined reference to `__imp__Py_NoneStruct'\r. C:/Users/kathl/AppData/Local/Theano/compiledir_Windows-10-10.0.17134-SP0-AMD64_Family_23_Model_8_Stepping_2_AuthenticAMD-3.7.0-64/lazylinker_ext/mod.cpp:426: undefined reference to `__imp_PyExc_IndexError'\r. C:/Users/kathl/AppData/Local/Theano/compiledir_Windows-10-10.0.17134-SP0-AMD64_Family_23_Model_8_Stepping_2_AuthenticAMD-3.7.0-64/lazylinker_ext/mod.cpp:440: undefined reference to `__imp_PyExc_TypeError'\r. C:/Users/kathl/AppData/Local/Theano/compiledir_Windows-10-10.0.17134-SP0-AMD64_Family_23_Model_8_Stepping_2_AuthenticAMD-3.7.0-64/lazylinker_ext/mod.cpp:444: undefined reference to `__imp__Py_NoneStruct'\r. C:\\Users\\kathl\\AppData\\Local\\Temp\\ccIjKnwA.o: In function `c_call':\r. C:/Users/kathl/AppData/Local/Theano/compiledir_Windows-10-10.0.17134-SP0-AMD64_Family_23_Model_8_Stepping_2_AuthenticAMD-3.7.0-64/lazylinker_ext/mod.cpp:545: undefined reference to `__imp__Py_NoneStruct'\r. C:/Users/kathl/AppData/Local/Theano/compiledir_Windows-10-10.0.17134-SP0-AMD64_Family_23_Model_8_Stepping_2_AuthenticAMD-3.7.0-64/lazylinker_ext/mod.cpp:545: undefined reference to `__imp__Py_NoneStruct'\r. C:/Users/kathl/AppData/Local/Theano/compiledir_Windows-10-10.0.17134-SP0-AMD64_Family_23_Model_8_Stepping_2_AuthenticAMD-3.7.0-64/lazylinker_ext/mod.cpp:545: undefined reference to `__imp__Py_NoneStruct'\r. C:/Users/kathl/AppData/Local/Theano/compiledir_Windows-10-10.0.17134-SP0-AMD64_Family_23_Model_8_Stepping_2_AuthenticAMD-3.7.0-64/lazylinker_ext/mod.cpp:546: undefined reference to `__imp__Py_NoneStruct'\r. C:\\Users\\kathl\\AppData\\Local\\Temp\\ccIjKnwA.o:C:/Users/kathl/AppData/Local/Theano/compiledir_Windows-10-10.0.17134-SP0-AMD64_Family_23_Model_8_Stepping_2_AuthenticAMD-3.7.0-64/lazylinker_ext/mod.cpp:546: more undefined references to `__imp__Py_NoneStruct' follow\r. C:\\Users\\kathl\\AppData\\Local\\Temp\\ccIjKnwA.o: In function `lazy_rec_eval':\r. C:/Users/kathl/AppData/Local/Theano/compiledir_Windows-10-10.0.17134-SP0-AMD64_Family_23_Model_8_Stepping_2_AuthenticAMD-3.7.0-64/lazylinker_ext/mod.cpp:618: undefined reference to `__imp_PyExc_IndexError'\r. C:/Users/kathl/AppData/Local/Theano/compiledir_Windows-10-10.0.17134-SP0-AMD64_Family_23_Model_8_Stepping_2_AuthenticAMD-3.7.0-64/lazylinker_ext/mod.cpp:641: undefined reference to `__imp_PyExc_TypeError'\r. C:/Users/kathl/AppData/Local/Theano/compiledir_Windows-10-10.0.17134-SP0-AMD64_Family_23_Model_8_Stepping_2_AuthenticAMD-3.7.0-64/lazylinker_ext/mod.cpp:649: undefined reference to `__imp_PyExc_ValueError'\r. C:/Users/kathl/AppData/Local/Theano/compiledir_Windows-10-10.0.17134-SP0-AMD64_Family_23_Model_8_Stepping_2_AuthenticAMD-3.7.0-64/lazylinker_ext/mod.cpp:657: undefined reference to `__imp_PyExc_IndexError'\r. C:/Users/kathl/AppData/Local/Theano/compiledir_Windows-10-10.0.17134-SP0-AMD64_Family_23_Model_8_Stepping_2_AuthenticAMD-3.7.0-64/lazylinker_ext/mod.cpp:708: undefined reference to `__imp__Py_NoneStruct'\r. C:/Users/kathl/AppData/Local/Theano/compiledir_Windows-10-10.0.17134-SP0-AMD64_Family_23_Model_8_Stepping_2_AuthenticAMD-3.7.0-64/lazylinker_ext/mod.cpp:715: undefined reference to `__imp_PyExc_TypeError'\r. C:/Users/kathl/AppData/Local/Theano/compiledir_Windows-10-10.0.17134-SP0-AMD64_Family_23_Model_8_Stepping_2_AuthenticAMD-3.7.0-64/lazylinker_ext/mod.cpp:721: undefined reference to `__imp_PyExc_TypeError'\r. C:/Users/kathl/AppData/Local/Theano/compiledir_Windows-10-10.0.17134-SP0-AMD64_Family_23_Model_8_Stepping_2_AuthenticAMD-3.7.0-64/lazylinker_ext/mod.cpp:771: undefined reference to `__imp__Py_NoneStruct'\r. C:/Users/kathl/AppData/Local/Theano/compiledir_Windows-10-10.0.17134-SP0-AMD64_Family_23_Model_8_Stepping_2_AuthenticAMD-3.7.0-64/lazylinker_ext/mod.cpp:771: undefined reference to `__imp__Py_NoneStruct'\r. C:/Users/kathl/AppData/Local/Theano/compiledir_Windows-10-10.0.17134-SP0-AMD64_Family_23_Model_8_Stepping_2_AuthenticAMD-3.7.0-64/lazylinker_ext/mod.cpp:772: undefined reference to `__imp__Py_NoneStruct'\r. C:\\Users\\kathl\\AppData\\Local\\Temp\\ccIjKnwA.o: In function `CLazyLinker_call':\r. C:/Users/kathl/AppData/Local/Theano/compiledir_Windows-10-10.0.17134-SP0-AMD64_Family_23_Model_8_Stepping_2_AuthenticAMD-3.7.0-64/lazylinker_ext/mod.cpp:814: undefined reference to `__imp_PyExc_RuntimeError'\r. C:/Users/kathl/AppData/Local/Theano/compiledir_Windows-10-10.0.17134-SP0-AMD64_Family_23_Model_8_Stepping_2_AuthenticAMD-3.7.0-64/lazylinker_ext/mod.cpp:826: undefined reference to `__imp_PyExc_RuntimeError'\r. C:/Users/kathl/AppData/Local/Theano/compiledir_Windows-10-10.0.17134-SP0-AMD64_Family_23_Model_8_Stepping_2_AuthenticAMD-3.7.0-64/lazylinker_ext/mod.cpp:839: undefined reference to `__imp__Py_NoneStruct'\r. C:/Users/kathl/AppData/Local/Theano/compiledir_Windows-10-10.0.17134-SP0-AMD64_Family_23_Model_8_Stepping_2_AuthenticAMD-3.7.0-64/lazylinker_ext/mod.cpp:839: undefined reference to `__imp__Py_NoneStruct'\r. C:/Users/kathl/AppData/Local/Theano/compiledir_Windows-10-10.0.17134-SP0-AMD64_Family_23_Model_8_Stepping_2_AuthenticAMD-3.7.0-64/lazylinker_ext/mod.cpp:840: undefined reference to `__imp__Py_NoneStruct'\r. C:/Users/kathl/AppData/Local/Theano/compiledir_Windows-10-10.0.17134-SP0-AMD64_Family_23_Model_8_Stepping_2_AuthenticAMD-3.7.0-64/lazylinker_ext/mod.cpp:849: undefined reference to `__imp__Py_NoneStruct'\r. C:/Users/kathl/AppData/Local/Theano/compiledir_Windows-10-10.0.17134-SP0-AMD64_Family_23_Model_8_Stepping_2_AuthenticAMD-3.7.0-64/lazylinker_ext/mod.cpp:849: undefined reference to `__imp__Py_NoneStruct'\r. C:\\Users\\kathl\\AppData\\Local\\Temp\\ccIjKnwA.o:C:/Users/kathl/AppData/Local/Theano/compiledir_Windows-10-10.0.17134-SP0-AMD64_Family_23_Model_8_Stepping_2_AuthenticAMD-3.7.0-64/lazylinker_ext/mod.cpp:850: more undefined references to `__imp__Py_NoneStruct' follow\r. C:\\Users\\kathl\\AppData\\Local\\Temp\\ccIjKnwA.o: In function `CLazyLinker_call':\r. C:/Users/kathl/AppData/Local/Theano/compiledir_Windows-10-10.0.17134-SP0-AMD64_Family_23_Model_8_Stepping_2_AuthenticAMD-3.7.0-64/lazylinker_ext/mod.cpp:894: undefined reference to `__imp_PyExc_AssertionError'\r. C:/Users/kathl/AppData/Local/Theano/compiledir_Windows-10-10.0.17134-SP0-AMD64_Family_23_Model_8_Stepping_2_AuthenticAMD-3.7.0-64/lazylinker_ext/mod.cpp:937: undefined reference to `__imp__Py_NoneStruct'\r. C:/Users/kathl/AppData/Local/Theano/compiledir_Windows-10-10.0.17134-SP0-AMD64_Family_23_Model_8_Stepping_2_AuthenticAMD-3.7.0-64/lazylinker_ext/mod.cpp:937: undefined reference to `__imp__Py_NoneStruct'\r. C:/Users/kathl/AppData/Local/Theano/compiledir_Windows-10-10.0.17134-SP0-AMD64_Family_23_Model_8_Stepping_2_AuthenticAMD-3.7.0-64/lazylinker_ext/mod.cpp:938: undefined reference to `__imp__Py_NoneStruct'\r. C:\\Users\\kathl\\AppData\\Local\\Temp\\ccIjKnwA.o: In function `CLazyLinker_set_allow_gc':\r. C:/Users/kathl/AppData/Local/Theano/compiledir_Windows-10-10.0.17134-SP0-AMD64_Family_23_Model_8_Stepping_2_AuthenticAMD-3.7.0-64/lazylinker_ext/mod.cpp:973: undefined reference to `__imp_PyBool_Type'\r. C:/Users/kathl/AppData/Local/Theano/compiledir_Windows-10-10.0.17134-SP0-AMD64_Family_23_Model_8_Stepping_2_AuthenticAMD-3.7.0-64/lazylinker_ext/mod.cpp:976: undefined reference to `__imp__Py_TrueStruct'\r. collect2.exe: error: ld returned 1 exit status\r. ",
     "output_type": "error",
     "traceback": [
      "\u001b[1;31m---------------------------------------------------------------------------\u001b[0m",
      "\u001b[1;31mImportError\u001b[0m                               Traceback (most recent call last)",
      "\u001b[1;32m~\\AppData\\Local\\Continuum\\anaconda3\\lib\\site-packages\\theano\\gof\\lazylinker_c.py\u001b[0m in \u001b[0;36m<module>\u001b[1;34m()\u001b[0m\n\u001b[0;32m     80\u001b[0m                     \u001b[0mversion\u001b[0m\u001b[1;33m,\u001b[0m\u001b[1;33m\u001b[0m\u001b[0m\n\u001b[1;32m---> 81\u001b[1;33m                     actual_version, force_compile, _need_reload))\n\u001b[0m\u001b[0;32m     82\u001b[0m \u001b[1;32mexcept\u001b[0m \u001b[0mImportError\u001b[0m\u001b[1;33m:\u001b[0m\u001b[1;33m\u001b[0m\u001b[0m\n",
      "\u001b[1;31mImportError\u001b[0m: Version check of the existing lazylinker compiled file. Looking for version 0.211, but found None. Extra debug information: force_compile=False, _need_reload=True",
      "\nDuring handling of the above exception, another exception occurred:\n",
      "\u001b[1;31mImportError\u001b[0m                               Traceback (most recent call last)",
      "\u001b[1;32m~\\AppData\\Local\\Continuum\\anaconda3\\lib\\site-packages\\theano\\gof\\lazylinker_c.py\u001b[0m in \u001b[0;36m<module>\u001b[1;34m()\u001b[0m\n\u001b[0;32m    104\u001b[0m                         \u001b[0mversion\u001b[0m\u001b[1;33m,\u001b[0m\u001b[1;33m\u001b[0m\u001b[0m\n\u001b[1;32m--> 105\u001b[1;33m                         actual_version, force_compile, _need_reload))\n\u001b[0m\u001b[0;32m    106\u001b[0m         \u001b[1;32mexcept\u001b[0m \u001b[0mImportError\u001b[0m\u001b[1;33m:\u001b[0m\u001b[1;33m\u001b[0m\u001b[0m\n",
      "\u001b[1;31mImportError\u001b[0m: Version check of the existing lazylinker compiled file. Looking for version 0.211, but found None. Extra debug information: force_compile=False, _need_reload=True",
      "\nDuring handling of the above exception, another exception occurred:\n",
      "\u001b[1;31mException\u001b[0m                                 Traceback (most recent call last)",
      "\u001b[1;32m<ipython-input-1-e2d3ee711e72>\u001b[0m in \u001b[0;36m<module>\u001b[1;34m()\u001b[0m\n\u001b[1;32m----> 1\u001b[1;33m \u001b[1;32mimport\u001b[0m \u001b[0mtheano\u001b[0m\u001b[1;33m\u001b[0m\u001b[0m\n\u001b[0m",
      "\u001b[1;32m~\\AppData\\Local\\Continuum\\anaconda3\\lib\\site-packages\\theano\\__init__.py\u001b[0m in \u001b[0;36m<module>\u001b[1;34m()\u001b[0m\n\u001b[0;32m    108\u001b[0m     object2, utils)\n\u001b[0;32m    109\u001b[0m \u001b[1;33m\u001b[0m\u001b[0m\n\u001b[1;32m--> 110\u001b[1;33m from theano.compile import (\n\u001b[0m\u001b[0;32m    111\u001b[0m     \u001b[0mSymbolicInput\u001b[0m\u001b[1;33m,\u001b[0m \u001b[0mIn\u001b[0m\u001b[1;33m,\u001b[0m\u001b[1;33m\u001b[0m\u001b[0m\n\u001b[0;32m    112\u001b[0m     \u001b[0mSymbolicOutput\u001b[0m\u001b[1;33m,\u001b[0m \u001b[0mOut\u001b[0m\u001b[1;33m,\u001b[0m\u001b[1;33m\u001b[0m\u001b[0m\n",
      "\u001b[1;32m~\\AppData\\Local\\Continuum\\anaconda3\\lib\\site-packages\\theano\\compile\\__init__.py\u001b[0m in \u001b[0;36m<module>\u001b[1;34m()\u001b[0m\n\u001b[0;32m     10\u001b[0m \u001b[1;32mfrom\u001b[0m \u001b[0mtheano\u001b[0m\u001b[1;33m.\u001b[0m\u001b[0mcompile\u001b[0m\u001b[1;33m.\u001b[0m\u001b[0mfunction_module\u001b[0m \u001b[1;32mimport\u001b[0m \u001b[1;33m*\u001b[0m\u001b[1;33m\u001b[0m\u001b[0m\n\u001b[0;32m     11\u001b[0m \u001b[1;33m\u001b[0m\u001b[0m\n\u001b[1;32m---> 12\u001b[1;33m \u001b[1;32mfrom\u001b[0m \u001b[0mtheano\u001b[0m\u001b[1;33m.\u001b[0m\u001b[0mcompile\u001b[0m\u001b[1;33m.\u001b[0m\u001b[0mmode\u001b[0m \u001b[1;32mimport\u001b[0m \u001b[1;33m*\u001b[0m\u001b[1;33m\u001b[0m\u001b[0m\n\u001b[0m\u001b[0;32m     13\u001b[0m \u001b[1;33m\u001b[0m\u001b[0m\n\u001b[0;32m     14\u001b[0m \u001b[1;32mfrom\u001b[0m \u001b[0mtheano\u001b[0m\u001b[1;33m.\u001b[0m\u001b[0mcompile\u001b[0m\u001b[1;33m.\u001b[0m\u001b[0mio\u001b[0m \u001b[1;32mimport\u001b[0m \u001b[1;33m*\u001b[0m\u001b[1;33m\u001b[0m\u001b[0m\n",
      "\u001b[1;32m~\\AppData\\Local\\Continuum\\anaconda3\\lib\\site-packages\\theano\\compile\\mode.py\u001b[0m in \u001b[0;36m<module>\u001b[1;34m()\u001b[0m\n\u001b[0;32m      9\u001b[0m \u001b[1;32mimport\u001b[0m \u001b[0mtheano\u001b[0m\u001b[1;33m\u001b[0m\u001b[0m\n\u001b[0;32m     10\u001b[0m \u001b[1;32mfrom\u001b[0m \u001b[0mtheano\u001b[0m \u001b[1;32mimport\u001b[0m \u001b[0mgof\u001b[0m\u001b[1;33m\u001b[0m\u001b[0m\n\u001b[1;32m---> 11\u001b[1;33m \u001b[1;32mimport\u001b[0m \u001b[0mtheano\u001b[0m\u001b[1;33m.\u001b[0m\u001b[0mgof\u001b[0m\u001b[1;33m.\u001b[0m\u001b[0mvm\u001b[0m\u001b[1;33m\u001b[0m\u001b[0m\n\u001b[0m\u001b[0;32m     12\u001b[0m \u001b[1;32mfrom\u001b[0m \u001b[0mtheano\u001b[0m \u001b[1;32mimport\u001b[0m \u001b[0mconfig\u001b[0m\u001b[1;33m\u001b[0m\u001b[0m\n\u001b[0;32m     13\u001b[0m \u001b[1;32mfrom\u001b[0m \u001b[0msix\u001b[0m \u001b[1;32mimport\u001b[0m \u001b[0mstring_types\u001b[0m\u001b[1;33m\u001b[0m\u001b[0m\n",
      "\u001b[1;32m~\\AppData\\Local\\Continuum\\anaconda3\\lib\\site-packages\\theano\\gof\\vm.py\u001b[0m in \u001b[0;36m<module>\u001b[1;34m()\u001b[0m\n\u001b[0;32m    672\u001b[0m     \u001b[1;32mif\u001b[0m \u001b[1;32mnot\u001b[0m \u001b[0mtheano\u001b[0m\u001b[1;33m.\u001b[0m\u001b[0mconfig\u001b[0m\u001b[1;33m.\u001b[0m\u001b[0mcxx\u001b[0m\u001b[1;33m:\u001b[0m\u001b[1;33m\u001b[0m\u001b[0m\n\u001b[0;32m    673\u001b[0m         \u001b[1;32mraise\u001b[0m \u001b[0mtheano\u001b[0m\u001b[1;33m.\u001b[0m\u001b[0mgof\u001b[0m\u001b[1;33m.\u001b[0m\u001b[0mcmodule\u001b[0m\u001b[1;33m.\u001b[0m\u001b[0mMissingGXX\u001b[0m\u001b[1;33m(\u001b[0m\u001b[1;34m'lazylinker will not be imported if theano.config.cxx is not set.'\u001b[0m\u001b[1;33m)\u001b[0m\u001b[1;33m\u001b[0m\u001b[0m\n\u001b[1;32m--> 674\u001b[1;33m     \u001b[1;32mfrom\u001b[0m \u001b[1;33m.\u001b[0m \u001b[1;32mimport\u001b[0m \u001b[0mlazylinker_c\u001b[0m\u001b[1;33m\u001b[0m\u001b[0m\n\u001b[0m\u001b[0;32m    675\u001b[0m \u001b[1;33m\u001b[0m\u001b[0m\n\u001b[0;32m    676\u001b[0m     \u001b[1;32mclass\u001b[0m \u001b[0mCVM\u001b[0m\u001b[1;33m(\u001b[0m\u001b[0mlazylinker_c\u001b[0m\u001b[1;33m.\u001b[0m\u001b[0mCLazyLinker\u001b[0m\u001b[1;33m,\u001b[0m \u001b[0mVM\u001b[0m\u001b[1;33m)\u001b[0m\u001b[1;33m:\u001b[0m\u001b[1;33m\u001b[0m\u001b[0m\n",
      "\u001b[1;32m~\\AppData\\Local\\Continuum\\anaconda3\\lib\\site-packages\\theano\\gof\\lazylinker_c.py\u001b[0m in \u001b[0;36m<module>\u001b[1;34m()\u001b[0m\n\u001b[0;32m    138\u001b[0m             \u001b[0margs\u001b[0m \u001b[1;33m=\u001b[0m \u001b[0mcmodule\u001b[0m\u001b[1;33m.\u001b[0m\u001b[0mGCC_compiler\u001b[0m\u001b[1;33m.\u001b[0m\u001b[0mcompile_args\u001b[0m\u001b[1;33m(\u001b[0m\u001b[1;33m)\u001b[0m\u001b[1;33m\u001b[0m\u001b[0m\n\u001b[0;32m    139\u001b[0m             cmodule.GCC_compiler.compile_str(dirname, code, location=loc,\n\u001b[1;32m--> 140\u001b[1;33m                                              preargs=args)\n\u001b[0m\u001b[0;32m    141\u001b[0m             \u001b[1;31m# Save version into the __init__.py file.\u001b[0m\u001b[1;33m\u001b[0m\u001b[1;33m\u001b[0m\u001b[0m\n\u001b[0;32m    142\u001b[0m             \u001b[0minit_py\u001b[0m \u001b[1;33m=\u001b[0m \u001b[0mos\u001b[0m\u001b[1;33m.\u001b[0m\u001b[0mpath\u001b[0m\u001b[1;33m.\u001b[0m\u001b[0mjoin\u001b[0m\u001b[1;33m(\u001b[0m\u001b[0mloc\u001b[0m\u001b[1;33m,\u001b[0m \u001b[1;34m'__init__.py'\u001b[0m\u001b[1;33m)\u001b[0m\u001b[1;33m\u001b[0m\u001b[0m\n",
      "\u001b[1;32m~\\AppData\\Local\\Continuum\\anaconda3\\lib\\site-packages\\theano\\gof\\cmodule.py\u001b[0m in \u001b[0;36mcompile_str\u001b[1;34m(module_name, src_code, location, include_dirs, lib_dirs, libs, preargs, py_module, hide_symbols)\u001b[0m\n\u001b[0;32m   2386\u001b[0m             \u001b[1;31m# difficult to read.\u001b[0m\u001b[1;33m\u001b[0m\u001b[1;33m\u001b[0m\u001b[0m\n\u001b[0;32m   2387\u001b[0m             raise Exception('Compilation failed (return status=%s): %s' %\n\u001b[1;32m-> 2388\u001b[1;33m                             (status, compile_stderr.replace('\\n', '. ')))\n\u001b[0m\u001b[0;32m   2389\u001b[0m         \u001b[1;32melif\u001b[0m \u001b[0mconfig\u001b[0m\u001b[1;33m.\u001b[0m\u001b[0mcmodule\u001b[0m\u001b[1;33m.\u001b[0m\u001b[0mcompilation_warning\u001b[0m \u001b[1;32mand\u001b[0m \u001b[0mcompile_stderr\u001b[0m\u001b[1;33m:\u001b[0m\u001b[1;33m\u001b[0m\u001b[0m\n\u001b[0;32m   2390\u001b[0m             \u001b[1;31m# Print errors just below the command line.\u001b[0m\u001b[1;33m\u001b[0m\u001b[1;33m\u001b[0m\u001b[0m\n",
      "\u001b[1;31mException\u001b[0m: Compilation failed (return status=1): C:\\Users\\kathl\\AppData\\Local\\Temp\\ccIjKnwA.o: In function `_import_array':\r. C:/Users/kathl/AppData/Local/Continuum/anaconda3/lib/site-packages/numpy/core/include/numpy/__multiarray_api.h:1470: undefined reference to `__imp_PyExc_ImportError'\r. C:/Users/kathl/AppData/Local/Continuum/anaconda3/lib/site-packages/numpy/core/include/numpy/__multiarray_api.h:1476: undefined reference to `__imp_PyExc_AttributeError'\r. C:/Users/kathl/AppData/Local/Continuum/anaconda3/lib/site-packages/numpy/core/include/numpy/__multiarray_api.h:1481: undefined reference to `__imp_PyCapsule_Type'\r. C:/Users/kathl/AppData/Local/Continuum/anaconda3/lib/site-packages/numpy/core/include/numpy/__multiarray_api.h:1482: undefined reference to `__imp_PyExc_RuntimeError'\r. C:/Users/kathl/AppData/Local/Continuum/anaconda3/lib/site-packages/numpy/core/include/numpy/__multiarray_api.h:1497: undefined reference to `__imp_PyExc_RuntimeError'\r. C:/Users/kathl/AppData/Local/Continuum/anaconda3/lib/site-packages/numpy/core/include/numpy/__multiarray_api.h:1505: undefined reference to `__imp_PyExc_RuntimeError'\r. C:/Users/kathl/AppData/Local/Continuum/anaconda3/lib/site-packages/numpy/core/include/numpy/__multiarray_api.h:1511: undefined reference to `__imp_PyExc_RuntimeError'\r. C:/Users/kathl/AppData/Local/Continuum/anaconda3/lib/site-packages/numpy/core/include/numpy/__multiarray_api.h:1521: undefined reference to `__imp_PyExc_RuntimeError'\r. C:\\Users\\kathl\\AppData\\Local\\Temp\\ccIjKnwA.o:C:/Users/kathl/AppData/Local/Continuum/anaconda3/lib/site-packages/numpy/core/include/numpy/__multiarray_api.h:1533: more undefined references to `__imp_PyExc_RuntimeError' follow\r. C:\\Users\\kathl\\AppData\\Local\\Temp\\ccIjKnwA.o: In function `NpyCapsule_Check':\r. C:/Users/kathl/AppData/Local/Continuum/anaconda3/lib/site-packages/numpy/core/include/numpy/npy_3kcompat.h:468: undefined reference to `__imp_PyCapsule_Type'\r. C:\\Users\\kathl\\AppData\\Local\\Temp\\ccIjKnwA.o: In function `unpack_list_of_ssize_t':\r. C:/Users/kathl/AppData/Local/Theano/compiledir_Windows-10-10.0.17134-SP0-AMD64_Family_23_Model_8_Stepping_2_AuthenticAMD-3.7.0-64/lazylinker_ext/mod.cpp:48: undefined reference to `__imp_PyExc_TypeError'\r. C:/Users/kathl/AppData/Local/Theano/compiledir_Windows-10-10.0.17134-SP0-AMD64_Family_23_Model_8_Stepping_2_AuthenticAMD-3.7.0-64/lazylinker_ext/mod.cpp:58: undefined reference to `__imp_PyExc_IndexError'\r. C:\\Users\\kathl\\AppData\\Local\\Temp\\ccIjKnwA.o: In function `CLazyLinker_init':\r. C:/Users/kathl/AppData/Local/Theano/compiledir_Windows-10-10.0.17134-SP0-AMD64_Family_23_Model_8_Stepping_2_AuthenticAMD-3.7.0-64/lazylinker_ext/mod.cpp:352: undefined reference to `__imp_PyExc_IndexError'\r. C:/Users/kathl/AppData/Local/Theano/compiledir_Windows-10-10.0.17134-SP0-AMD64_Family_23_Model_8_Stepping_2_AuthenticAMD-3.7.0-64/lazylinker_ext/mod.cpp:370: undefined reference to `__imp_PyExc_IndexError'\r. C:/Users/kathl/AppData/Local/Theano/compiledir_Windows-10-10.0.17134-SP0-AMD64_Family_23_Model_8_Stepping_2_AuthenticAMD-3.7.0-64/lazylinker_ext/mod.cpp:385: undefined reference to `__imp_PyExc_IndexError'\r. C:/Users/kathl/AppData/Local/Theano/compiledir_Windows-10-10.0.17134-SP0-AMD64_Family_23_Model_8_Stepping_2_AuthenticAMD-3.7.0-64/lazylinker_ext/mod.cpp:389: undefined reference to `__imp_PyExc_IndexError'\r. C:\\Users\\kathl\\AppData\\Local\\Temp\\ccIjKnwA.o:C:/Users/kathl/AppData/Local/Theano/compiledir_Windows-10-10.0.17134-SP0-AMD64_Family_23_Model_8_Stepping_2_AuthenticAMD-3.7.0-64/lazylinker_ext/mod.cpp:393: more undefined references to `__imp_PyExc_IndexError' follow\r. C:\\Users\\kathl\\AppData\\Local\\Temp\\ccIjKnwA.o: In function `CLazyLinker_init':\r. C:/Users/kathl/AppData/Local/Theano/compiledir_Windows-10-10.0.17134-SP0-AMD64_Family_23_Model_8_Stepping_2_AuthenticAMD-3.7.0-64/lazylinker_ext/mod.cpp:405: undefined reference to `__imp_PyExc_TypeError'\r. C:/Users/kathl/AppData/Local/Theano/compiledir_Windows-10-10.0.17134-SP0-AMD64_Family_23_Model_8_Stepping_2_AuthenticAMD-3.7.0-64/lazylinker_ext/mod.cpp:420: undefined reference to `__imp__Py_NoneStruct'\r. C:/Users/kathl/AppData/Local/Theano/compiledir_Windows-10-10.0.17134-SP0-AMD64_Family_23_Model_8_Stepping_2_AuthenticAMD-3.7.0-64/lazylinker_ext/mod.cpp:426: undefined reference to `__imp_PyExc_IndexError'\r. C:/Users/kathl/AppData/Local/Theano/compiledir_Windows-10-10.0.17134-SP0-AMD64_Family_23_Model_8_Stepping_2_AuthenticAMD-3.7.0-64/lazylinker_ext/mod.cpp:440: undefined reference to `__imp_PyExc_TypeError'\r. C:/Users/kathl/AppData/Local/Theano/compiledir_Windows-10-10.0.17134-SP0-AMD64_Family_23_Model_8_Stepping_2_AuthenticAMD-3.7.0-64/lazylinker_ext/mod.cpp:444: undefined reference to `__imp__Py_NoneStruct'\r. C:\\Users\\kathl\\AppData\\Local\\Temp\\ccIjKnwA.o: In function `c_call':\r. C:/Users/kathl/AppData/Local/Theano/compiledir_Windows-10-10.0.17134-SP0-AMD64_Family_23_Model_8_Stepping_2_AuthenticAMD-3.7.0-64/lazylinker_ext/mod.cpp:545: undefined reference to `__imp__Py_NoneStruct'\r. C:/Users/kathl/AppData/Local/Theano/compiledir_Windows-10-10.0.17134-SP0-AMD64_Family_23_Model_8_Stepping_2_AuthenticAMD-3.7.0-64/lazylinker_ext/mod.cpp:545: undefined reference to `__imp__Py_NoneStruct'\r. C:/Users/kathl/AppData/Local/Theano/compiledir_Windows-10-10.0.17134-SP0-AMD64_Family_23_Model_8_Stepping_2_AuthenticAMD-3.7.0-64/lazylinker_ext/mod.cpp:545: undefined reference to `__imp__Py_NoneStruct'\r. C:/Users/kathl/AppData/Local/Theano/compiledir_Windows-10-10.0.17134-SP0-AMD64_Family_23_Model_8_Stepping_2_AuthenticAMD-3.7.0-64/lazylinker_ext/mod.cpp:546: undefined reference to `__imp__Py_NoneStruct'\r. C:\\Users\\kathl\\AppData\\Local\\Temp\\ccIjKnwA.o:C:/Users/kathl/AppData/Local/Theano/compiledir_Windows-10-10.0.17134-SP0-AMD64_Family_23_Model_8_Stepping_2_AuthenticAMD-3.7.0-64/lazylinker_ext/mod.cpp:546: more undefined references to `__imp__Py_NoneStruct' follow\r. C:\\Users\\kathl\\AppData\\Local\\Temp\\ccIjKnwA.o: In function `lazy_rec_eval':\r. C:/Users/kathl/AppData/Local/Theano/compiledir_Windows-10-10.0.17134-SP0-AMD64_Family_23_Model_8_Stepping_2_AuthenticAMD-3.7.0-64/lazylinker_ext/mod.cpp:618: undefined reference to `__imp_PyExc_IndexError'\r. C:/Users/kathl/AppData/Local/Theano/compiledir_Windows-10-10.0.17134-SP0-AMD64_Family_23_Model_8_Stepping_2_AuthenticAMD-3.7.0-64/lazylinker_ext/mod.cpp:641: undefined reference to `__imp_PyExc_TypeError'\r. C:/Users/kathl/AppData/Local/Theano/compiledir_Windows-10-10.0.17134-SP0-AMD64_Family_23_Model_8_Stepping_2_AuthenticAMD-3.7.0-64/lazylinker_ext/mod.cpp:649: undefined reference to `__imp_PyExc_ValueError'\r. C:/Users/kathl/AppData/Local/Theano/compiledir_Windows-10-10.0.17134-SP0-AMD64_Family_23_Model_8_Stepping_2_AuthenticAMD-3.7.0-64/lazylinker_ext/mod.cpp:657: undefined reference to `__imp_PyExc_IndexError'\r. C:/Users/kathl/AppData/Local/Theano/compiledir_Windows-10-10.0.17134-SP0-AMD64_Family_23_Model_8_Stepping_2_AuthenticAMD-3.7.0-64/lazylinker_ext/mod.cpp:708: undefined reference to `__imp__Py_NoneStruct'\r. C:/Users/kathl/AppData/Local/Theano/compiledir_Windows-10-10.0.17134-SP0-AMD64_Family_23_Model_8_Stepping_2_AuthenticAMD-3.7.0-64/lazylinker_ext/mod.cpp:715: undefined reference to `__imp_PyExc_TypeError'\r. C:/Users/kathl/AppData/Local/Theano/compiledir_Windows-10-10.0.17134-SP0-AMD64_Family_23_Model_8_Stepping_2_AuthenticAMD-3.7.0-64/lazylinker_ext/mod.cpp:721: undefined reference to `__imp_PyExc_TypeError'\r. C:/Users/kathl/AppData/Local/Theano/compiledir_Windows-10-10.0.17134-SP0-AMD64_Family_23_Model_8_Stepping_2_AuthenticAMD-3.7.0-64/lazylinker_ext/mod.cpp:771: undefined reference to `__imp__Py_NoneStruct'\r. C:/Users/kathl/AppData/Local/Theano/compiledir_Windows-10-10.0.17134-SP0-AMD64_Family_23_Model_8_Stepping_2_AuthenticAMD-3.7.0-64/lazylinker_ext/mod.cpp:771: undefined reference to `__imp__Py_NoneStruct'\r. C:/Users/kathl/AppData/Local/Theano/compiledir_Windows-10-10.0.17134-SP0-AMD64_Family_23_Model_8_Stepping_2_AuthenticAMD-3.7.0-64/lazylinker_ext/mod.cpp:772: undefined reference to `__imp__Py_NoneStruct'\r. C:\\Users\\kathl\\AppData\\Local\\Temp\\ccIjKnwA.o: In function `CLazyLinker_call':\r. C:/Users/kathl/AppData/Local/Theano/compiledir_Windows-10-10.0.17134-SP0-AMD64_Family_23_Model_8_Stepping_2_AuthenticAMD-3.7.0-64/lazylinker_ext/mod.cpp:814: undefined reference to `__imp_PyExc_RuntimeError'\r. C:/Users/kathl/AppData/Local/Theano/compiledir_Windows-10-10.0.17134-SP0-AMD64_Family_23_Model_8_Stepping_2_AuthenticAMD-3.7.0-64/lazylinker_ext/mod.cpp:826: undefined reference to `__imp_PyExc_RuntimeError'\r. C:/Users/kathl/AppData/Local/Theano/compiledir_Windows-10-10.0.17134-SP0-AMD64_Family_23_Model_8_Stepping_2_AuthenticAMD-3.7.0-64/lazylinker_ext/mod.cpp:839: undefined reference to `__imp__Py_NoneStruct'\r. C:/Users/kathl/AppData/Local/Theano/compiledir_Windows-10-10.0.17134-SP0-AMD64_Family_23_Model_8_Stepping_2_AuthenticAMD-3.7.0-64/lazylinker_ext/mod.cpp:839: undefined reference to `__imp__Py_NoneStruct'\r. C:/Users/kathl/AppData/Local/Theano/compiledir_Windows-10-10.0.17134-SP0-AMD64_Family_23_Model_8_Stepping_2_AuthenticAMD-3.7.0-64/lazylinker_ext/mod.cpp:840: undefined reference to `__imp__Py_NoneStruct'\r. C:/Users/kathl/AppData/Local/Theano/compiledir_Windows-10-10.0.17134-SP0-AMD64_Family_23_Model_8_Stepping_2_AuthenticAMD-3.7.0-64/lazylinker_ext/mod.cpp:849: undefined reference to `__imp__Py_NoneStruct'\r. C:/Users/kathl/AppData/Local/Theano/compiledir_Windows-10-10.0.17134-SP0-AMD64_Family_23_Model_8_Stepping_2_AuthenticAMD-3.7.0-64/lazylinker_ext/mod.cpp:849: undefined reference to `__imp__Py_NoneStruct'\r. C:\\Users\\kathl\\AppData\\Local\\Temp\\ccIjKnwA.o:C:/Users/kathl/AppData/Local/Theano/compiledir_Windows-10-10.0.17134-SP0-AMD64_Family_23_Model_8_Stepping_2_AuthenticAMD-3.7.0-64/lazylinker_ext/mod.cpp:850: more undefined references to `__imp__Py_NoneStruct' follow\r. C:\\Users\\kathl\\AppData\\Local\\Temp\\ccIjKnwA.o: In function `CLazyLinker_call':\r. C:/Users/kathl/AppData/Local/Theano/compiledir_Windows-10-10.0.17134-SP0-AMD64_Family_23_Model_8_Stepping_2_AuthenticAMD-3.7.0-64/lazylinker_ext/mod.cpp:894: undefined reference to `__imp_PyExc_AssertionError'\r. C:/Users/kathl/AppData/Local/Theano/compiledir_Windows-10-10.0.17134-SP0-AMD64_Family_23_Model_8_Stepping_2_AuthenticAMD-3.7.0-64/lazylinker_ext/mod.cpp:937: undefined reference to `__imp__Py_NoneStruct'\r. C:/Users/kathl/AppData/Local/Theano/compiledir_Windows-10-10.0.17134-SP0-AMD64_Family_23_Model_8_Stepping_2_AuthenticAMD-3.7.0-64/lazylinker_ext/mod.cpp:937: undefined reference to `__imp__Py_NoneStruct'\r. C:/Users/kathl/AppData/Local/Theano/compiledir_Windows-10-10.0.17134-SP0-AMD64_Family_23_Model_8_Stepping_2_AuthenticAMD-3.7.0-64/lazylinker_ext/mod.cpp:938: undefined reference to `__imp__Py_NoneStruct'\r. C:\\Users\\kathl\\AppData\\Local\\Temp\\ccIjKnwA.o: In function `CLazyLinker_set_allow_gc':\r. C:/Users/kathl/AppData/Local/Theano/compiledir_Windows-10-10.0.17134-SP0-AMD64_Family_23_Model_8_Stepping_2_AuthenticAMD-3.7.0-64/lazylinker_ext/mod.cpp:973: undefined reference to `__imp_PyBool_Type'\r. C:/Users/kathl/AppData/Local/Theano/compiledir_Windows-10-10.0.17134-SP0-AMD64_Family_23_Model_8_Stepping_2_AuthenticAMD-3.7.0-64/lazylinker_ext/mod.cpp:976: undefined reference to `__imp__Py_TrueStruct'\r. collect2.exe: error: ld returned 1 exit status\r. "
     ]
    }
   ],
   "source": [
    "import theano"
   ]
  },
  {
   "cell_type": "code",
   "execution_count": null,
   "metadata": {},
   "outputs": [],
   "source": [
    "import pymc3 as pm\n",
    "from IPython.core.pylabtools import figsize\n",
    "import numpy as np\n",
    "import matplotlib.pyplot as plt\n",
    "%matplotlib inline"
   ]
  },
  {
   "cell_type": "code",
   "execution_count": null,
   "metadata": {},
   "outputs": [],
   "source": [
    "\n",
    "count_data = np.array([3,4,3,4,2,5,3,5,2,3,9,8,9,7,9,10,8,11,9])\n",
    "n_count_data = count_data.size"
   ]
  },
  {
   "cell_type": "code",
   "execution_count": null,
   "metadata": {},
   "outputs": [],
   "source": [
    "figsize(12.5, 3.5)\n",
    "plt.bar(np.arange(n_count_data), count_data, color=\"#348ABD\")\n",
    "plt.xlabel(\"Time\")\n",
    "plt.ylabel(\"Count of Detections\")\n",
    "plt.xlim(0, n_count_data)"
   ]
  },
  {
   "cell_type": "code",
   "execution_count": null,
   "metadata": {},
   "outputs": [],
   "source": [
    "with pm.Model() as model:\n",
    "    alpha = 1.0/count_data.mean()  \n",
    "                                   \n",
    "    # Create stochastic variables\n",
    "    lambda_1 = pm.Exponential(\"lambda_1\", alpha)\n",
    "    lambda_2 = pm.Exponential(\"lambda_2\", alpha)\n",
    "    # Alternatively: lambdas = pm.Exponential(\"lambdas\", alpha, shape=2)\n",
    "    \n",
    "    tau = pm.DiscreteUniform(\"tau\", lower=0, upper=n_count_data - 1)\n",
    "    \n",
    "    idx = np.arange(n_count_data) # Index\n",
    "    \n",
    "    # Create a deterministic variable\n",
    "    lambda_ = pm.math.switch(tau > idx, lambda_1, lambda_2)"
   ]
  },
  {
   "cell_type": "code",
   "execution_count": null,
   "metadata": {},
   "outputs": [],
   "source": [
    "# View prior distributions\n",
    "figsize(12.5, 4)\n",
    "samples = lambda_1.random(size=20000)\n",
    "plt.hist(samples, bins=70, density=True, histtype=\"stepfilled\")\n",
    "plt.title(\"Prior distribution for $\\lambda_1$\")"
   ]
  },
  {
   "cell_type": "code",
   "execution_count": null,
   "metadata": {},
   "outputs": [],
   "source": [
    "with model:\n",
    "    # Adding data to our model by initializing a stochastic variable with the \"observed\" dataset\n",
    "    observation = pm.Poisson(\"obs\", lambda_, observed=count_data)\n",
    "    step = pm.Metropolis()\n",
    "    trace = pm.sample(10000, tune=5000,step=step)"
   ]
  },
  {
   "cell_type": "code",
   "execution_count": null,
   "metadata": {},
   "outputs": [],
   "source": [
    "# Get samples from each variable\n",
    "lambda_1_samples = trace['lambda_1']\n",
    "lambda_2_samples = trace['lambda_2']\n",
    "tau_samples = trace['tau']"
   ]
  },
  {
   "cell_type": "code",
   "execution_count": null,
   "metadata": {},
   "outputs": [],
   "source": [
    "# Histograms of the samples from the stochastic variables\n",
    "\n",
    "figsize(12.5, 10)\n",
    "ax = plt.subplot(311)\n",
    "ax.set_autoscaley_on(False)\n",
    "\n",
    "plt.hist(lambda_1_samples, histtype='stepfilled', bins=30, alpha=0.85,\n",
    "         label=\"posterior of $\\lambda_1$\", color=\"#A60628\", density=True)\n",
    "plt.legend(loc=\"upper left\")\n",
    "plt.title(r\"\"\"Posterior distributions of the variables\n",
    "    $\\lambda_1,\\;\\lambda_2,\\;\\tau$\"\"\")\n",
    "plt.xlim([0, 15])\n",
    "plt.xlabel(\"$\\lambda_1$ value\")\n",
    "\n",
    "ax = plt.subplot(312)\n",
    "ax.set_autoscaley_on(False)\n",
    "plt.hist(lambda_2_samples, histtype='stepfilled', bins=30, alpha=0.85,\n",
    "         label=\"posterior of $\\lambda_2$\", color=\"#7A68A6\", density=True)\n",
    "plt.legend(loc=\"upper left\")\n",
    "plt.xlim([0, 15])\n",
    "plt.xlabel(\"$\\lambda_2$ value\")\n",
    "\n",
    "plt.subplot(313)\n",
    "w = 1.0 / tau_samples.shape[0] * np.ones_like(tau_samples)\n",
    "plt.hist(tau_samples, bins=n_count_data, alpha=1,\n",
    "         label=r\"posterior of $\\tau$\",\n",
    "         color=\"#467821\", weights=w, rwidth=2.)\n",
    "plt.xticks(np.arange(n_count_data))\n",
    "\n",
    "plt.legend(loc=\"upper left\")\n",
    "#plt.ylim([0, 10])\n",
    "#plt.xlim([35, len(count_data)-20])\n",
    "plt.xlabel(r\"$\\tau$ (in days)\")\n",
    "plt.ylabel(\"probability\");"
   ]
  },
  {
   "cell_type": "code",
   "execution_count": null,
   "metadata": {},
   "outputs": [],
   "source": []
  },
  {
   "cell_type": "code",
   "execution_count": null,
   "metadata": {},
   "outputs": [],
   "source": []
  },
  {
   "cell_type": "code",
   "execution_count": null,
   "metadata": {},
   "outputs": [],
   "source": []
  },
  {
   "cell_type": "code",
   "execution_count": null,
   "metadata": {},
   "outputs": [],
   "source": []
  },
  {
   "cell_type": "code",
   "execution_count": null,
   "metadata": {},
   "outputs": [],
   "source": []
  },
  {
   "cell_type": "code",
   "execution_count": null,
   "metadata": {},
   "outputs": [],
   "source": []
  },
  {
   "cell_type": "code",
   "execution_count": null,
   "metadata": {},
   "outputs": [],
   "source": [
    "count_data = np.array([3,4,3,4,2,5,3,5,2,3,9,8,9,7,9,10,8,11,9,2,3,2,2,1,3,4,2])\n",
    "n_count_data = count_data.size"
   ]
  },
  {
   "cell_type": "code",
   "execution_count": null,
   "metadata": {},
   "outputs": [],
   "source": [
    "with pm.Model() as model:\n",
    "    alpha = 1.0/count_data.mean()  \n",
    "    \n",
    "    lambda_1 = pm.Exponential(\"lambda_1\", alpha)\n",
    "    lambda_2 = pm.Exponential(\"lambda_2\", alpha)\n",
    "    lambda_3 = pm.Exponential(\"lambda_3\", alpha)\n",
    "    \n",
    "    tau_1 = pm.DiscreteUniform(\"tau_1\", lower=0, upper=n_count_data)\n",
    "    tau_2 = pm.DiscreteUniform(\"tau_2\", lower=tau_1, upper=n_count_data)\n",
    "    idx = np.arange(n_count_data) # Index\n",
    "    lambda_ = pm.math.switch(tau_2 >= idx, pm.math.switch(tau_1 >= idx, lambda_1, lambda_2), lambda_3)"
   ]
  },
  {
   "cell_type": "code",
   "execution_count": null,
   "metadata": {},
   "outputs": [],
   "source": [
    "with model:\n",
    "    observation = pm.Poisson(\"obs\", lambda_, observed=count_data)\n",
    "    step = pm.Metropolis()\n",
    "    trace = pm.sample(10000, tune=5000,step=step)"
   ]
  },
  {
   "cell_type": "code",
   "execution_count": null,
   "metadata": {},
   "outputs": [],
   "source": [
    "lambda_1_samples = trace['lambda_1']\n",
    "lambda_2_samples = trace['lambda_2']\n",
    "lambda_3_samples = trace['lambda_3']\n",
    "tau_1_samples = trace['tau_1']\n",
    "tau_2_samples = trace['tau_2']"
   ]
  },
  {
   "cell_type": "code",
   "execution_count": null,
   "metadata": {},
   "outputs": [],
   "source": [
    "figsize(12.5, 3.5)\n",
    "plt.bar(np.arange(n_count_data), count_data, color=\"#348ABD\")\n",
    "plt.xlabel(\"Time\")\n",
    "plt.ylabel(\"Count of Detections\")\n",
    "plt.xlim(0, n_count_data)"
   ]
  },
  {
   "cell_type": "code",
   "execution_count": null,
   "metadata": {},
   "outputs": [],
   "source": [
    "figsize(12.5, 10)\n",
    "#histogram of the samples:\n",
    "\n",
    "ax = plt.subplot(511)\n",
    "ax.set_autoscaley_on(False)\n",
    "\n",
    "plt.hist(lambda_1_samples, histtype='stepfilled', bins=30, alpha=0.85,\n",
    "         label=\"posterior of $\\lambda_1$\", color=\"#A60628\", normed=True)\n",
    "plt.legend(loc=\"upper left\")\n",
    "plt.title(r\"\"\"Posterior distributions of the variables\n",
    "    $\\lambda_1,\\;\\lambda_2,\\;\\tau$\"\"\")\n",
    "plt.xlim([0, 15])\n",
    "plt.xlabel(\"$\\lambda_1$ value\")\n",
    "\n",
    "ax = plt.subplot(512)\n",
    "ax.set_autoscaley_on(False)\n",
    "plt.hist(lambda_2_samples, histtype='stepfilled', bins=30, alpha=0.85,\n",
    "         label=\"posterior of $\\lambda_2$\", color=\"#7A68A6\", normed=True)\n",
    "plt.legend(loc=\"upper left\")\n",
    "plt.xlim([0, 15])\n",
    "plt.xlabel(\"$\\lambda_2$ value\")\n",
    "\n",
    "ax = plt.subplot(513)\n",
    "ax.set_autoscaley_on(False)\n",
    "plt.hist(lambda_2_samples, histtype='stepfilled', bins=30, alpha=0.85,\n",
    "         label=\"posterior of $\\lambda_3$\", color=\"#3C29A6\", normed=True)\n",
    "plt.legend(loc=\"upper left\")\n",
    "plt.xlim([0, 15])\n",
    "plt.xlabel(\"$\\lambda_3$ value\")\n",
    "\n",
    "plt.subplot(514)\n",
    "w = 1.0 / tau_samples.shape[0] * np.ones_like(tau_samples)\n",
    "plt.hist(tau_1_samples, bins=n_count_data, alpha=1,\n",
    "         label=r\"posterior of $\\tau_1$\",\n",
    "         color=\"#467821\", weights=w, rwidth=2.)\n",
    "plt.xticks(np.arange(n_count_data))\n",
    "plt.legend(loc=\"upper left\")\n",
    "#plt.ylim([0, 10])\n",
    "#plt.xlim([35, len(count_data)-20])\n",
    "plt.xlabel(r\"$\\tau_1$ (in days)\")\n",
    "plt.ylabel(\"probability\")\n",
    "\n",
    "plt.subplot(515)\n",
    "w = 1.0 / tau_samples.shape[0] * np.ones_like(tau_samples)\n",
    "plt.hist(tau_2_samples, bins=n_count_data, alpha=1,\n",
    "         label=r\"posterior of $\\tau_2$\",\n",
    "         color=\"#467821\", weights=w, rwidth=2.)\n",
    "plt.xticks(np.arange(n_count_data))\n",
    "plt.legend(loc=\"upper left\")\n",
    "#plt.ylim([0, 10])\n",
    "#plt.xlim([35, len(count_data)-20])\n",
    "plt.xlabel(r\"$\\tau_2$ (in days)\")\n",
    "plt.ylabel(\"probability\");"
   ]
  },
  {
   "cell_type": "code",
   "execution_count": null,
   "metadata": {},
   "outputs": [],
   "source": []
  }
 ],
 "metadata": {
  "kernelspec": {
   "display_name": "pymc3",
   "language": "python",
   "name": "pymc3"
  },
  "language_info": {
   "codemirror_mode": {
    "name": "ipython",
    "version": 3
   },
   "file_extension": ".py",
   "mimetype": "text/x-python",
   "name": "python",
   "nbconvert_exporter": "python",
   "pygments_lexer": "ipython3",
   "version": "3.7.0"
  }
 },
 "nbformat": 4,
 "nbformat_minor": 2
}
