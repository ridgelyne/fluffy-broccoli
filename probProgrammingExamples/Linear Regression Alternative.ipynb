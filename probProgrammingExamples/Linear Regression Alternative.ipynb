{
 "cells": [
  {
   "cell_type": "code",
   "execution_count": null,
   "metadata": {
    "colab": {},
    "colab_type": "code",
    "id": "QO4v_7yTs4pr"
   },
   "outputs": [],
   "source": [
    "import numpy as np\n",
    "import pymc3 as pm\n",
    "from IPython.core.pylabtools import figsize\n",
    "import numpy as np\n",
    "import matplotlib.pyplot as plt\n",
    "from random import random\n",
    "from random import gauss\n",
    "\n",
    "%matplotlib inline"
   ]
  },
  {
   "cell_type": "code",
   "execution_count": null,
   "metadata": {
    "colab": {},
    "colab_type": "code",
    "id": "1AONnBqDs4pz"
   },
   "outputs": [],
   "source": [
    "slope = 4\n",
    "intercept = 30\n",
    "noise_mean = 0\n",
    "noise_sigma = 8\n",
    "N = 50\n",
    "scale = 20"
   ]
  },
  {
   "cell_type": "code",
   "execution_count": null,
   "metadata": {
    "colab": {},
    "colab_type": "code",
    "id": "RScOwUWHs4p5"
   },
   "outputs": [],
   "source": [
    "x = np.array([random() for _ in range(N)])\n",
    "x = x * scale - scale/2\n",
    "\n",
    "noise = np.array([gauss(noise_mean, noise_sigma) for _ in range(N)])\n",
    "\n",
    "y = (slope*x + intercept) + noise\n",
    "\n",
    "#x = x[:,np.newaxis]"
   ]
  },
  {
   "cell_type": "code",
   "execution_count": null,
   "metadata": {
    "colab": {
     "base_uri": "https://localhost:8080/",
     "height": 268
    },
    "colab_type": "code",
    "id": "YMK2c4A-s4p_",
    "outputId": "1ea6ac0e-a5b8-4370-d7db-c313ca3d628b"
   },
   "outputs": [],
   "source": [
    "plt.scatter(x,y)\n",
    "plt.show()"
   ]
  },
  {
   "cell_type": "code",
   "execution_count": null,
   "metadata": {
    "colab": {
     "base_uri": "https://localhost:8080/",
     "height": 524
    },
    "colab_type": "code",
    "id": "nFNFYYXXDAEq",
    "outputId": "65e728ac-f26b-4346-cc2a-df1b1c38e56c"
   },
   "outputs": [],
   "source": [
    "with pm.Model() as model: \n",
    "    \n",
    "    # Define priors\n",
    "    _sigma = pm.Uniform('sigma', lower=0, upper=20)#pm.HalfNormal('sigma', sd=1)    \n",
    "    _alpha = pm.Normal('alpha', 0, sd=20)\n",
    "    _beta = pm.Normal('beta', 0, sd=20)\n",
    "    \n",
    "    # Expected value of income\n",
    "    _mu = _alpha + _beta * x\n",
    "\n",
    "    # Likelihood (sampling distribution of observations)\n",
    "    likelihood = pm.Normal('likelihood', mu=_mu, sd=_sigma, observed=y)\n",
    "\n",
    "    # Inference!\n",
    "    start = pm.find_MAP()\n",
    "    step = pm.NUTS() #scaling=start\n",
    "    #trace = pm.sample(20000, step)#, start=start)\n",
    "    #trace = pm.sample(5000, tune=1000, chains=4)\n",
    "    #step = pm.Metropolis()\n",
    "    trace = pm.sample(10000, tune=5000,step=step)\n",
    "    pm.plots.traceplot(trace)\n"
   ]
  },
  {
   "cell_type": "code",
   "execution_count": null,
   "metadata": {
    "colab": {
     "base_uri": "https://localhost:8080/",
     "height": 83
    },
    "colab_type": "code",
    "id": "udS3HC-zKLl9",
    "outputId": "f5f092f3-03d2-42a3-a5c1-10886280d2e1"
   },
   "outputs": [],
   "source": [
    "start"
   ]
  },
  {
   "cell_type": "code",
   "execution_count": null,
   "metadata": {
    "colab": {},
    "colab_type": "code",
    "id": "s0AYFTios4qI"
   },
   "outputs": [],
   "source": [
    "from sklearn.linear_model import LinearRegression"
   ]
  },
  {
   "cell_type": "code",
   "execution_count": null,
   "metadata": {
    "colab": {},
    "colab_type": "code",
    "id": "ESMF_ziws4qO"
   },
   "outputs": [],
   "source": [
    "lm = LinearRegression()\n",
    "lm.fit(x.reshape(-1, 1), y)\n",
    "y_pred = lm.predict(x.reshape(-1, 1))"
   ]
  },
  {
   "cell_type": "code",
   "execution_count": null,
   "metadata": {
    "colab": {
     "base_uri": "https://localhost:8080/",
     "height": 265
    },
    "colab_type": "code",
    "id": "7Hb0kY2Us4qV",
    "outputId": "e4dfa226-ed80-4ffe-9365-c13e95c519c0"
   },
   "outputs": [],
   "source": [
    "plt.scatter(x, y)\n",
    "plt.plot(x, y_pred, color='red')\n",
    "plt.show()"
   ]
  },
  {
   "cell_type": "code",
   "execution_count": null,
   "metadata": {
    "colab": {
     "base_uri": "https://localhost:8080/",
     "height": 574
    },
    "colab_type": "code",
    "id": "GUgBpCO3s4qg",
    "outputId": "a26105fa-bab5-4480-fbda-6541035cf4c1"
   },
   "outputs": [],
   "source": [
    "with pm.Model() as model: \n",
    "    \n",
    "    # Define priors\n",
    "    sigma = pm.Uniform('sigma', lower=0, upper=20)#pm.HalfNormal('sigma', sd=1)    \n",
    "    alpha = pm.Normal('alpha', 0, sd=20)\n",
    "    beta = pm.Normal('beta', 0, sd=20)\n",
    "    \n",
    "    # Expected value of income\n",
    "    mu = alpha + beta * x\n",
    "\n",
    "    # Likelihood (sampling distribution of observations)\n",
    "    likelihood = pm.Normal('likelihood', mu=mu, sd=sigma, observed=y)\n",
    "\n",
    "    # Inference!\n",
    "    #start = pm.find_MAP()\n",
    "    #step = pm.NUTS() #scaling=start\n",
    "    #trace = pm.sample(20000, step)#, start=start)\n",
    "    #trace = pm.sample(5000, tune=1000, chains=4)\n",
    "    step = pm.Metropolis()\n",
    "    trace = pm.sample(10000, tune=5000,step=step)\n",
    "    pm.plots.traceplot(trace, combined=True)"
   ]
  },
  {
   "cell_type": "code",
   "execution_count": null,
   "metadata": {
    "colab": {},
    "colab_type": "code",
    "id": "6YNuZd85s4qn"
   },
   "outputs": [],
   "source": [
    "alpha_samples = trace['alpha']\n",
    "beta_samples = trace['beta']\n",
    "sigma_samples = trace['sigma']\n",
    "\n"
   ]
  },
  {
   "cell_type": "code",
   "execution_count": null,
   "metadata": {
    "colab": {},
    "colab_type": "code",
    "id": "NArs7qXiurCu"
   },
   "outputs": [],
   "source": [
    "\n",
    "from scipy.stats.mstats import mquantiles\n",
    "\n",
    "# vectorized bottom and top 2.5% quantiles for \"confidence interval\"\n",
    "qs = mquantiles(p_t, [0.025, 0.975], axis=0)\n",
    "plt.fill_between(t[:, 0], *qs, alpha=0.7,\n",
    "                 color=\"#7A68A6\")"
   ]
  },
  {
   "cell_type": "code",
   "execution_count": null,
   "metadata": {
    "colab": {
     "base_uri": "https://localhost:8080/",
     "height": 265
    },
    "colab_type": "code",
    "id": "JZgxtfOiuwCE",
    "outputId": "75359205-8315-497d-9080-c5b3baa4a965"
   },
   "outputs": [],
   "source": [
    "y_pred = [alpha_samples[i] + beta_samples[i]*x for i in range(alpha_samples.size)]\n",
    "for i in range(alpha_samples.size):\n",
    "  plt.plot(x, y_pred[i])\n",
    "plt.scatter(x,y)\n",
    "plt.show()"
   ]
  },
  {
   "cell_type": "code",
   "execution_count": null,
   "metadata": {
    "colab": {
     "base_uri": "https://localhost:8080/",
     "height": 242
    },
    "colab_type": "code",
    "id": "yOfDteKV8eWG",
    "outputId": "fdf83de0-4900-4103-b6c7-59bc66279a91"
   },
   "outputs": [],
   "source": [
    "figsize(12.5, 10)\n",
    "#histogram of the samples:\n",
    "\n",
    "ax = plt.subplot(311)\n",
    "ax.set_autoscaley_on(False)\n",
    "\n",
    "plt.hist(alpha_samples, histtype='stepfilled', bins=30, alpha=0.85,\n",
    "         label=\"posterior of alpha\", color=\"#A60628\", normed=True)\n",
    "plt.legend(loc=\"upper left\")\n",
    "#plt.xlim([15, 30])\n",
    "plt.xlabel(\"alpha value\")"
   ]
  },
  {
   "cell_type": "code",
   "execution_count": null,
   "metadata": {
    "colab": {
     "base_uri": "https://localhost:8080/",
     "height": 242
    },
    "colab_type": "code",
    "id": "3m5Jii2IvE7w",
    "outputId": "5440a184-3230-4149-fdae-c6485b031423"
   },
   "outputs": [],
   "source": [
    "figsize(12.5, 10)\n",
    "#histogram of the samples:\n",
    "\n",
    "ax = plt.subplot(311)\n",
    "ax.set_autoscaley_on(False)\n",
    "\n",
    "plt.hist(beta_samples, histtype='stepfilled', bins=30, alpha=0.85,\n",
    "         label=\"posterior of beta\", color=\"#A60628\", normed=True)\n",
    "plt.legend(loc=\"upper left\")\n",
    "#plt.xlim([15, 30])\n",
    "plt.xlabel(\"beta value\")"
   ]
  },
  {
   "cell_type": "code",
   "execution_count": null,
   "metadata": {
    "colab": {
     "base_uri": "https://localhost:8080/",
     "height": 242
    },
    "colab_type": "code",
    "id": "wm3GHJoq5BnQ",
    "outputId": "34fc3800-89db-4ae6-b629-5a31968ec4ff"
   },
   "outputs": [],
   "source": [
    "figsize(12.5, 10)\n",
    "#histogram of the samples:\n",
    "\n",
    "ax = plt.subplot(311)\n",
    "ax.set_autoscaley_on(False)\n",
    "\n",
    "plt.hist(sigma_samples, histtype='stepfilled', bins=30, alpha=0.85,\n",
    "         label=\"posterior of sigma\", color=\"#A60628\", normed=True)\n",
    "plt.legend(loc=\"upper left\")\n",
    "#plt.xlim([15, 30])\n",
    "plt.xlabel(\"sigma value\")"
   ]
  },
  {
   "cell_type": "code",
   "execution_count": null,
   "metadata": {
    "colab": {
     "base_uri": "https://localhost:8080/",
     "height": 33
    },
    "colab_type": "code",
    "id": "_4icoyDb5fQv",
    "outputId": "de949b0d-6d7e-4cfc-fa16-03439920aac8"
   },
   "outputs": [],
   "source": [
    "x.shape"
   ]
  },
  {
   "cell_type": "code",
   "execution_count": null,
   "metadata": {
    "colab": {},
    "colab_type": "code",
    "id": "9ApT9wT056Lx"
   },
   "outputs": [],
   "source": [
    "x"
   ]
  },
  {
   "cell_type": "code",
   "execution_count": null,
   "metadata": {
    "colab": {},
    "colab_type": "code",
    "id": "dMyCM_eh57uN"
   },
   "outputs": [],
   "source": []
  },
  {
   "cell_type": "code",
   "execution_count": null,
   "metadata": {
    "colab": {},
    "colab_type": "code",
    "id": "6gVG3jN-6NGM"
   },
   "outputs": [],
   "source": [
    "alpha_samples.size"
   ]
  },
  {
   "cell_type": "code",
   "execution_count": null,
   "metadata": {
    "colab": {},
    "colab_type": "code",
    "id": "OHQTsBns6OkE"
   },
   "outputs": [],
   "source": [
    "len(y_pred[0])"
   ]
  },
  {
   "cell_type": "code",
   "execution_count": null,
   "metadata": {
    "colab": {},
    "colab_type": "code",
    "id": "Hprjd8DM6tlF"
   },
   "outputs": [],
   "source": [
    "y_pred[0].shape"
   ]
  },
  {
   "cell_type": "code",
   "execution_count": null,
   "metadata": {
    "colab": {
     "base_uri": "https://localhost:8080/",
     "height": 33
    },
    "colab_type": "code",
    "id": "FyNPylYU6w7p",
    "outputId": "8ea7d65e-9b8d-41a3-d1e0-83411803d5ba"
   },
   "outputs": [],
   "source": [
    "x.shape"
   ]
  },
  {
   "cell_type": "code",
   "execution_count": null,
   "metadata": {
    "colab": {},
    "colab_type": "code",
    "id": "HytZffLt62Di"
   },
   "outputs": [],
   "source": []
  },
  {
   "cell_type": "code",
   "execution_count": null,
   "metadata": {
    "colab": {},
    "colab_type": "code",
    "id": "hOn-Wr9f7IwS"
   },
   "outputs": [],
   "source": []
  },
  {
   "cell_type": "code",
   "execution_count": null,
   "metadata": {
    "colab": {},
    "colab_type": "code",
    "id": "f_x2KqBg8Je_"
   },
   "outputs": [],
   "source": []
  }
 ],
 "metadata": {
  "accelerator": "GPU",
  "colab": {
   "name": "Linear Regression Alternative.ipynb",
   "provenance": [],
   "version": "0.3.2"
  },
  "kernelspec": {
   "display_name": "Python 3",
   "language": "python",
   "name": "python3"
  },
  "language_info": {
   "codemirror_mode": {
    "name": "ipython",
    "version": 3
   },
   "file_extension": ".py",
   "mimetype": "text/x-python",
   "name": "python",
   "nbconvert_exporter": "python",
   "pygments_lexer": "ipython3",
   "version": "3.7.0"
  }
 },
 "nbformat": 4,
 "nbformat_minor": 1
}
